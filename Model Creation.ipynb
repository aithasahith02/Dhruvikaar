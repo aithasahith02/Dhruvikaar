{
 "cells": [
  {
   "cell_type": "markdown",
   "id": "0d78bb83",
   "metadata": {},
   "source": [
    "# Importing the Dependencies"
   ]
  },
  {
   "cell_type": "code",
   "execution_count": null,
   "id": "dea7b21d",
   "metadata": {},
   "outputs": [],
   "source": [
    "print(\"Importing the dependencies.....\\n\")\n",
    "from tensorflow.keras.preprocessing.image import ImageDataGenerator\n",
    "from tensorflow.keras.optimizers import RMSprop\n",
    "from tensorflow.keras.preprocessing import image\n",
    "from imutils.video import VideoStream\n",
    "from keras.models import load_model\n",
    "import matplotlib.pyplot as plt\n",
    "import tensorflow as tf\n",
    "import numpy as np\n",
    "import smtplib\n",
    "import imutils\n",
    "import time\n",
    "import cv2\n",
    "import os\n",
    "\n"
   ]
  },
  {
   "cell_type": "markdown",
   "id": "4dff2e40",
   "metadata": {},
   "source": [
    "# Loading the Dataset from the system\n"
   ]
  },
  {
   "cell_type": "code",
   "execution_count": null,
   "id": "2e5598cf",
   "metadata": {},
   "outputs": [],
   "source": [
    "Rn = input(\"Enter the Roll Number : \")\n",
    "name = input(\"Enter the name : \")\n",
    "email = input(\"Enter the Email ID : \")\n",
    "print(\"Loading the Dataset from the System....\\n\")\n",
    "train = ImageDataGenerator(rescale = 1/255)\n",
    "test = ImageDataGenerator(rescale = 1/255)\n",
    "\n",
    "train_dataset = train.flow_from_directory('C:/Users/hp/MLOPS/PROJECT/DATASET/training/',\n",
    "                                         target_size = (200,200),\n",
    "                                         batch_size = 3,\n",
    "                                         class_mode = 'binary')\n",
    "test_dataset = test.flow_from_directory('C:/Users/hp/MLOPS/PROJECT/DATASET/testing/',\n",
    "                                         target_size = (200,200),\n",
    "                                         batch_size = 3,\n",
    "                                         class_mode = 'binary')\n",
    "\n",
    "print(\"The Classes are : \\n \",train_dataset.classes)\n",
    "\n",
    "print(\"Creating the CNN......\\n\")\n",
    "\n"
   ]
  },
  {
   "cell_type": "markdown",
   "id": "216bae99",
   "metadata": {},
   "source": [
    "# Functions for Sending the mail"
   ]
  },
  {
   "cell_type": "code",
   "execution_count": null,
   "id": "40cf7a45",
   "metadata": {},
   "outputs": [],
   "source": [
    "def mail_for_valid() :\n",
    "    s = smtplib.SMTP('smtp.gmail.com', 587)\n",
    "    s.starttls()\n",
    "    s.login(\"aithasahith0214@gmail.com\",\"pwd\")\n",
    "    message = \"Hello \",name,\" You are allowed and can enter into the class...\"\n",
    "    s.sendmail(\"aithasahith0214@gmail.com\", mail, message)\n",
    "    s.quit()\n",
    "#Use this link to avoid error with smtplib Security issues\n",
    "#https://myaccount.google.com/lesssecureapps?pli=1&rapt=AEjHL4NIDAYmVl3G3lMRH2NYlpioEKYPUfwamskAKpXcudrSSKCmxi-LzIAUyY9ApTtadSMm0CNuk08xRXqoXjqxTMLIb39R2A\n",
    "\n",
    "def mail_for_invalid() :\n",
    "    s = smtplib.SMTP('smtp.gmail.com', 587)\n",
    "    s.starttls()\n",
    "    s.login(\"aithasahith0214@gmail.com\",\"pwd\")\n",
    "    message = \"Hello \",name,\" You are not allowed and cant enter into the class...\"\n",
    "    s.sendmail(\"aithasahith0214@gmail.com\", mail, message)\n",
    "    s.quit()"
   ]
  },
  {
   "cell_type": "markdown",
   "id": "4e602054",
   "metadata": {},
   "source": [
    "# Building the Neural Network"
   ]
  },
  {
   "cell_type": "code",
   "execution_count": null,
   "id": "a115d056",
   "metadata": {},
   "outputs": [],
   "source": [
    "print(\"Building the Neural Network..........\\n\")\n",
    "model = tf.keras.models.Sequential([tf.keras.layers.Conv2D(16,(3,3) ,activation='relu',input_shape=(200,200,3)),\n",
    "                                    tf.keras.layers.MaxPool2D(2,2),\n",
    "                                    #\n",
    "                                    tf.keras.layers.Conv2D(32,(3,3) ,activation='relu'),\n",
    "                                    tf.keras.layers.MaxPool2D(2,2),\n",
    "                                    #\n",
    "                                    tf.keras.layers.Conv2D(64,(3,3) ,activation='relu'),\n",
    "                                    tf.keras.layers.MaxPool2D(2,2),\n",
    "                                    ##\n",
    "                                    tf.keras.layers.Flatten(),\n",
    "                                    ##\n",
    "                                    tf.keras.layers.Dense(512,activation='relu'),\n",
    "                                    ##\n",
    "                                    tf.keras.layers.Dense(1,activation='sigmoid')\n",
    "                                   ]\n",
    "                                  )\n",
    "\n",
    "model.compile(loss = 'binary_crossentropy',\n",
    "              optimizer = RMSprop(learning_rate=0.001),\n",
    "              metrics = ['accuracy']\n",
    "             )\n"
   ]
  },
  {
   "cell_type": "markdown",
   "id": "d87889da",
   "metadata": {},
   "source": [
    "# Training the Neural Network"
   ]
  },
  {
   "cell_type": "code",
   "execution_count": null,
   "id": "6d1daa7c",
   "metadata": {},
   "outputs": [],
   "source": [
    "print(\"Training the Neural Network.........\\n\")\n",
    "model_fit = model.fit(train_dataset,\n",
    "                      steps_per_epoch=3,\n",
    "                      epochs=10,\n",
    "                     validation_data=test_dataset\n",
    "                     )\n"
   ]
  },
  {
   "cell_type": "markdown",
   "id": "30df573d",
   "metadata": {},
   "source": [
    "# Testing with a single image and Saving the model"
   ]
  },
  {
   "cell_type": "code",
   "execution_count": null,
   "id": "bc555a61",
   "metadata": {},
   "outputs": [],
   "source": [
    "print(\"Testing a Sample Image : \\n\")\n",
    "img = image.load_img('C:/Users/hp/MLOPS/PROJECT/DATASET/training/valid/1.png',target_size=(200,200))\n",
    "plt.imshow(img)\n",
    "\n",
    "\n",
    "X = image.img_to_array(img)\n",
    "print(X)\n",
    "X = np.expand_dims(X,axis=0)\n",
    "val = model.predict([X])\n",
    "if val == 1:\n",
    "    print(\"\\n Dressed properly\")\n",
    "else :\n",
    "    print(\"\\n Not dressed properly\")\n",
    "    \n",
    "    \n",
    "\n",
    "print(\"Saving the Model with name : \\\"new_model.h5\\\".\\n\")\n",
    "model.save('new_model.h5')\n"
   ]
  },
  {
   "cell_type": "markdown",
   "id": "6436028b",
   "metadata": {},
   "source": [
    "# Loading the saved model and testing"
   ]
  },
  {
   "cell_type": "code",
   "execution_count": null,
   "id": "486cb96d",
   "metadata": {},
   "outputs": [],
   "source": [
    "print(\"Loading the saved model from the file and testing.....\\n\")\n",
    "my_model=load_model('new_model.h5')\n",
    "\n",
    "img = image.load_img('C:/Users/hp/MLOPS/PROJECT/DATASET/training/invalid/1.png',target_size=(200,200))\n",
    "plt.imshow(img)\n",
    "\n",
    "X = image.img_to_array(img)\n",
    "X = np.expand_dims(X,axis=0)\n",
    "val = my_model.predict([X])\n",
    "if val == 1:\n",
    "    print(\"dressed properly\")\n",
    "else :\n",
    "    print(\"Not dressed properly\")"
   ]
  },
  {
   "cell_type": "markdown",
   "id": "bdb98096",
   "metadata": {},
   "source": [
    "# Testing the model with Live VideoStream"
   ]
  },
  {
   "cell_type": "code",
   "execution_count": null,
   "id": "2c62eebd",
   "metadata": {},
   "outputs": [],
   "source": [
    "valid_counter=0\n",
    "invalid_counter=0\n",
    "print(\"Ready to steam Live .....\\n \")\n",
    "font = cv2.FONT_HERSHEY_SIMPLEX\n",
    "face_cascade = cv2.CascadeClassifier('haarcascade_frontalface_default.xml')\n",
    "vs = VideoStream(src=0).start()\n",
    "print(\"Starting the Camera.....\\n \")\n",
    "time.sleep(2.0)\n",
    "while True :\n",
    "    frame = vs.read()\n",
    "    img=frame\n",
    "    faces = face_cascade.detectMultiScale(img, 1.1, 4)\n",
    "    for (x, y, w, h) in faces:\n",
    "        x1 = x - int(w/2)\n",
    "        y1 = y + h\n",
    "        w1 = w*2\n",
    "        h1 = h*2\n",
    "    frame = cv2.resize(frame,(200,200))\n",
    "    X = np.expand_dims(frame,axis=0)\n",
    "    val = my_model.predict([X])\n",
    "    if(val==1):\n",
    "        valid_counter+=1\n",
    "        cv2.rectangle(img, (x1, y1), (x1+w1, y1+h1), (0, 255, 0), 2)\n",
    "        cv2.putText(img,'DRESSED PROPERLY',(50, 50), font, 1,(0, 255, 0),2,cv2.LINE_4)\n",
    "        cv2.imshow('final',img)\n",
    "        print(\"Properly dressed\")\n",
    "    else :\n",
    "        invalid_counter+=1\n",
    "        cv2.rectangle(img, (x1, y1), (x1+w1, y1+h1), (0, 0, 255), 2)\n",
    "        cv2.putText(img,'NOT DRESSED PROPERLY',(50, 50), font, 1,(0, 0, 255),2,cv2.LINE_4)\n",
    "        cv2.imshow('final',img)\n",
    "\n",
    "        print(\"Not dreassed properly\")\n",
    "    if invalid_counter == 50 :\n",
    "        mail_for_invalid()\n",
    "        break\n",
    "    if valid_counter == 50 :\n",
    "        mail_for_valid()\n",
    "        break\n",
    "    if cv2.waitKey(10) == 13 :\n",
    "        break\n",
    "cv2.destroyAllWindows()\n",
    "print(\"Closing the Camera.....\\nEnding the program.......\\n\")\n",
    "vs.stop()"
   ]
  },
  {
   "cell_type": "code",
   "execution_count": null,
   "id": "64d6dc73",
   "metadata": {},
   "outputs": [],
   "source": []
  }
 ],
 "metadata": {
  "kernelspec": {
   "display_name": "Python 3",
   "language": "python",
   "name": "python3"
  },
  "language_info": {
   "codemirror_mode": {
    "name": "ipython",
    "version": 3
   },
   "file_extension": ".py",
   "mimetype": "text/x-python",
   "name": "python",
   "nbconvert_exporter": "python",
   "pygments_lexer": "ipython3",
   "version": "3.8.8"
  }
 },
 "nbformat": 4,
 "nbformat_minor": 5
}
